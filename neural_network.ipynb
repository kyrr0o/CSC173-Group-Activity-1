{
 "cells": [
  {
   "cell_type": "code",
   "execution_count": 2,
   "id": "f93ed1ff",
   "metadata": {},
   "outputs": [],
   "source": [
    "import numpy as np\n",
    "import matplotlib.pyplot as plt\n",
    "from sklearn.datasets import load_breast_cancer\n",
    "from sklearn.preprocessing import StandardScaler\n",
    "from sklearn.model_selection import train_test_split"
   ]
  },
  {
   "cell_type": "code",
   "execution_count": 3,
   "id": "f274dfdd",
   "metadata": {},
   "outputs": [],
   "source": [
    "data = load_breast_cancer()\n",
    "X = data.data[:, :2]\n",
    "y = data.target.reshape(-1, 1)\n",
    "\n",
    "scaler = StandardScaler()\n",
    "X = scaler.fit_transform(X)\n",
    "\n",
    "X_train, X_test, y_train, y_test = train_test_split(X, y, test_size=0.2, random_state=42)"
   ]
  },
  {
   "cell_type": "code",
   "execution_count": 4,
   "id": "641934ea",
   "metadata": {},
   "outputs": [],
   "source": [
    "def sigmoid(x):\n",
    "    return 1 / (1 + np.exp(-x))\n",
    "\n",
    "def sigmoid_derivative(x):\n",
    "    return x * (1-x)\n",
    "\n",
    "def mse_loss(y_true, y_pred):\n",
    "    return np.mean((y_true - y_pred) ** 2)"
   ]
  },
  {
   "cell_type": "code",
   "execution_count": 5,
   "id": "c6d976e0",
   "metadata": {},
   "outputs": [],
   "source": [
    "input_neurons = 2\n",
    "hidden_neurons = 3\n",
    "output_neurons = 1\n",
    "lr = 0.1\n",
    "\n",
    "np.random.seed(42)\n",
    "W1 = np.random.randn(input_neurons, hidden_neurons)\n",
    "b1 = np.zeros((1, hidden_neurons))\n",
    "W2 = np.random.randn(hidden_neurons, output_neurons)\n",
    "b2 = np.zeros((1, output_neurons))"
   ]
  },
  {
   "cell_type": "code",
   "execution_count": 6,
   "id": "3e07dd9d",
   "metadata": {},
   "outputs": [
    {
     "name": "stdout",
     "output_type": "stream",
     "text": [
      "Epoch 0, Loss: 0.2863\n",
      "Epoch 100, Loss: 0.0729\n",
      "Epoch 200, Loss: 0.0723\n",
      "Epoch 300, Loss: 0.0720\n",
      "Epoch 400, Loss: 0.0719\n",
      "Epoch 500, Loss: 0.0718\n",
      "Epoch 600, Loss: 0.0717\n",
      "Epoch 700, Loss: 0.0717\n"
     ]
    }
   ],
   "source": [
    "epochs = 800\n",
    "losses =[]\n",
    "\n",
    "for i in range(epochs):\n",
    "    z1 = np.dot(X_train, W1) + b1\n",
    "    a1 = sigmoid(z1)\n",
    "    z2 = np.dot(a1, W2) + b2\n",
    "    y_pred = sigmoid(z2)\n",
    "\n",
    "    loss = mse_loss(y_train, y_pred)\n",
    "    losses.append(loss)\n",
    "\n",
    "    d_loss = y_pred - y_train\n",
    "    d_z2 = d_loss * sigmoid_derivative(y_pred)\n",
    "    d_W2 = np.dot(a1.T, d_z2)\n",
    "    d_b2 = np.sum(d_z2, axis=0, keepdims=True)\n",
    "\n",
    "    d_a1 = np.dot(d_z2, W2.T)\n",
    "    d_z1 = d_a1 * sigmoid_derivative(a1)\n",
    "    d_W1 = np.dot(X_train.T, d_z1)\n",
    "    d_b1 = np.sum(d_z1, axis=0, keepdims=True)\n",
    "\n",
    "    W1 -= lr * d_W1\n",
    "    b1 -= lr * d_b1\n",
    "    W2 -= lr * d_W2\n",
    "    b2 -= lr * d_b2\n",
    "\n",
    "    if i % 100 == 0:\n",
    "        print(f\"Epoch {i}, Loss: {loss:.4f}\")"
   ]
  },
  {
   "cell_type": "code",
   "execution_count": 7,
   "id": "bfe01dc1",
   "metadata": {},
   "outputs": [
    {
     "name": "stdout",
     "output_type": "stream",
     "text": [
      "\n",
      "Test Accuracy: 91.23%\n"
     ]
    }
   ],
   "source": [
    "z1 = np.dot(X_test, W1) + b1\n",
    "a1 = sigmoid(z1)\n",
    "z2 = np.dot(a1, W2) + b2\n",
    "y_pred_test = sigmoid(z2)\n",
    "preds = (y_pred_test > 0.5).astype(int)\n",
    "acc = np.mean(preds == y_test)\n",
    "print(f\"\\nTest Accuracy: {acc*100:.2f}%\")"
   ]
  },
  {
   "cell_type": "code",
   "execution_count": 8,
   "id": "5cdf27cb",
   "metadata": {},
   "outputs": [
    {
     "data": {
      "image/png": "[encoded data removed]",
      "text/plain": [
       "<Figure size 640x480 with 1 Axes>"
      ]
     },
     "metadata": {},
     "output_type": "display_data"
    }
   ],
   "source": [
    "plt.plot(losses)\n",
    "plt.title(\"Training Loss (MSE)\")\n",
    "plt.xlabel(\"Epoch\")\n",
    "plt.ylabel(\"Loss\")\n",
    "plt.show()"
   ]
  }
 ],
 "metadata": {
  "kernelspec": {
   "display_name": "SSIS-V3-main-1eLsfWMZ",
   "language": "python",
   "name": "python3"
  },
  "language_info": {
   "codemirror_mode": {
    "name": "ipython",
    "version": 3
   },
   "file_extension": ".py",
   "mimetype": "text/x-python",
   "name": "python",
   "nbconvert_exporter": "python",
   "pygments_lexer": "ipython3",
   "version": "3.12.1"
  }
 },
 "nbformat": 4,
 "nbformat_minor": 5
}
